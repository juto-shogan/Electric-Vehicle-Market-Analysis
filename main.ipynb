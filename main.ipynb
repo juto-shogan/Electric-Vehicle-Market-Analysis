{
 "cells": [
  {
   "cell_type": "markdown",
   "metadata": {},
   "source": [
    "### For the task of market size of electric vehicles analysis, we can explore the following areas:\n",
    "\n",
    "- EV Adoption Over Time: Analyze the growth of the EV population by model year.<br>\n",
    "\n",
    "- Geographical Distribution: Understand where EVs are most commonly registered (e.g., by county or city).<br>\n",
    "\n",
    "- EV Types: Breakdown of the dataset by electric vehicle type (BEV, etc.).<br>\n",
    "\n",
    "- Make and Model Popularity: Identify the most popular makes and models among the registered EVs.<br>\n",
    "\n",
    "- Electric Range Analysis: Analyze the electric range of vehicles to see how EV technology is progressing.<br>\n",
    "\n",
    "- Estimated Growth in Market Size: Analyze and find the estimated growth in the market size of electric vehicles.<br>"
   ]
  },
  {
   "cell_type": "code",
   "execution_count": 41,
   "metadata": {},
   "outputs": [],
   "source": [
    "# import necessary libraries\n",
    "import pandas as pd\n",
    "import matplotlib.pyplot as plt\n",
    "import seaborn as sns\n",
    "import plotly.express as px"
   ]
  },
  {
   "cell_type": "code",
   "execution_count": 42,
   "metadata": {},
   "outputs": [],
   "source": [
    "# load the dataset\n",
    "df = pd.read_csv('data/data1.csv', encoding='latin1')"
   ]
  },
  {
   "cell_type": "code",
   "execution_count": 43,
   "metadata": {},
   "outputs": [
    {
     "data": {
      "application/vnd.microsoft.datawrangler.viewer.v0+json": {
       "columns": [
        {
         "name": "index",
         "rawType": "int64",
         "type": "integer"
        },
        {
         "name": "VIN (1-10)",
         "rawType": "object",
         "type": "string"
        },
        {
         "name": "County",
         "rawType": "object",
         "type": "string"
        },
        {
         "name": "City",
         "rawType": "object",
         "type": "string"
        },
        {
         "name": "State",
         "rawType": "object",
         "type": "string"
        },
        {
         "name": "Postal Code",
         "rawType": "float64",
         "type": "float"
        },
        {
         "name": "Model Year",
         "rawType": "int64",
         "type": "integer"
        },
        {
         "name": "Make",
         "rawType": "object",
         "type": "string"
        },
        {
         "name": "Model",
         "rawType": "object",
         "type": "string"
        },
        {
         "name": "Electric Vehicle Type",
         "rawType": "object",
         "type": "string"
        },
        {
         "name": "Clean Alternative Fuel Vehicle (CAFV) Eligibility",
         "rawType": "object",
         "type": "string"
        },
        {
         "name": "Electric Range",
         "rawType": "int64",
         "type": "integer"
        },
        {
         "name": "Base MSRP",
         "rawType": "int64",
         "type": "integer"
        },
        {
         "name": "Legislative District",
         "rawType": "float64",
         "type": "float"
        },
        {
         "name": "DOL Vehicle ID",
         "rawType": "int64",
         "type": "integer"
        },
        {
         "name": "Vehicle Location",
         "rawType": "object",
         "type": "string"
        },
        {
         "name": "Electric Utility",
         "rawType": "object",
         "type": "string"
        },
        {
         "name": "2020 Census Tract",
         "rawType": "float64",
         "type": "float"
        }
       ],
       "ref": "2104d6d2-2e07-4f6c-a2fc-891855e5275a",
       "rows": [
        [
         "0",
         "5YJYGDEE1L",
         "King",
         "Seattle",
         "WA",
         "98122.0",
         "2020",
         "TESLA",
         "MODEL Y",
         "Battery Electric Vehicle (BEV)",
         "Clean Alternative Fuel Vehicle Eligible",
         "291",
         "0",
         "37.0",
         "125701579",
         "POINT (-122.30839 47.610365)",
         "CITY OF SEATTLE - (WA)|CITY OF TACOMA - (WA)",
         "53033007800.0"
        ],
        [
         "1",
         "7SAYGDEE9P",
         "Snohomish",
         "Bothell",
         "WA",
         "98021.0",
         "2023",
         "TESLA",
         "MODEL Y",
         "Battery Electric Vehicle (BEV)",
         "Eligibility unknown as battery range has not been researched",
         "0",
         "0",
         "1.0",
         "244285107",
         "POINT (-122.179458 47.802589)",
         "PUGET SOUND ENERGY INC",
         "53061051938.0"
        ],
        [
         "2",
         "5YJSA1E4XK",
         "King",
         "Seattle",
         "WA",
         "98109.0",
         "2019",
         "TESLA",
         "MODEL S",
         "Battery Electric Vehicle (BEV)",
         "Clean Alternative Fuel Vehicle Eligible",
         "270",
         "0",
         "36.0",
         "156773144",
         "POINT (-122.34848 47.632405)",
         "CITY OF SEATTLE - (WA)|CITY OF TACOMA - (WA)",
         "53033006800.0"
        ],
        [
         "3",
         "5YJSA1E27G",
         "King",
         "Issaquah",
         "WA",
         "98027.0",
         "2016",
         "TESLA",
         "MODEL S",
         "Battery Electric Vehicle (BEV)",
         "Clean Alternative Fuel Vehicle Eligible",
         "210",
         "0",
         "5.0",
         "165103011",
         "POINT (-122.03646 47.534065)",
         "PUGET SOUND ENERGY INC||CITY OF TACOMA - (WA)",
         "53033032104.0"
        ],
        [
         "4",
         "5YJYGDEE5M",
         "Kitsap",
         "Suquamish",
         "WA",
         "98392.0",
         "2021",
         "TESLA",
         "MODEL Y",
         "Battery Electric Vehicle (BEV)",
         "Eligibility unknown as battery range has not been researched",
         "0",
         "0",
         "23.0",
         "205138552",
         "POINT (-122.55717 47.733415)",
         "PUGET SOUND ENERGY INC",
         "53035940100.0"
        ],
        [
         "5",
         "3FA6P0SU8H",
         "Thurston",
         "Yelm",
         "WA",
         "98597.0",
         "2017",
         "FORD",
         "FUSION",
         "Plug-in Hybrid Electric Vehicle (PHEV)",
         "Not eligible due to low battery range",
         "21",
         "0",
         "2.0",
         "122057736",
         "POINT (-122.61023 46.94126)",
         "PUGET SOUND ENERGY INC",
         "53067012532.0"
        ],
        [
         "6",
         "1N4AZ0CP2D",
         "Yakima",
         "Yakima",
         "WA",
         "98903.0",
         "2013",
         "NISSAN",
         "LEAF",
         "Battery Electric Vehicle (BEV)",
         "Clean Alternative Fuel Vehicle Eligible",
         "75",
         "0",
         "14.0",
         "150126840",
         "POINT (-120.477805 46.553505)",
         "PACIFICORP",
         "53077003003.0"
        ],
        [
         "7",
         "KNAGV4LD9J",
         "Snohomish",
         "Bothell",
         "WA",
         "98012.0",
         "2018",
         "KIA",
         "OPTIMA",
         "Plug-in Hybrid Electric Vehicle (PHEV)",
         "Not eligible due to low battery range",
         "29",
         "0",
         "1.0",
         "290605598",
         "POINT (-122.1873 47.820245)",
         "PUGET SOUND ENERGY INC",
         "53061052107.0"
        ],
        [
         "8",
         "1N4AZ0CP8F",
         "Kitsap",
         "Port Orchard",
         "WA",
         "98366.0",
         "2015",
         "NISSAN",
         "LEAF",
         "Battery Electric Vehicle (BEV)",
         "Clean Alternative Fuel Vehicle Eligible",
         "84",
         "0",
         "26.0",
         "137322111",
         "POINT (-122.639265 47.5373)",
         "PUGET SOUND ENERGY INC",
         "53035092400.0"
        ],
        [
         "9",
         "5UXTA6C03N",
         "King",
         "Auburn",
         "WA",
         "98001.0",
         "2022",
         "BMW",
         "X5",
         "Plug-in Hybrid Electric Vehicle (PHEV)",
         "Clean Alternative Fuel Vehicle Eligible",
         "30",
         "0",
         "47.0",
         "240226332",
         "POINT (-122.2849393 47.3384055)",
         "PUGET SOUND ENERGY INC||CITY OF TACOMA - (WA)",
         "53033029902.0"
        ]
       ],
       "shape": {
        "columns": 17,
        "rows": 10
       }
      },
      "text/html": [
       "<div>\n",
       "<style scoped>\n",
       "    .dataframe tbody tr th:only-of-type {\n",
       "        vertical-align: middle;\n",
       "    }\n",
       "\n",
       "    .dataframe tbody tr th {\n",
       "        vertical-align: top;\n",
       "    }\n",
       "\n",
       "    .dataframe thead th {\n",
       "        text-align: right;\n",
       "    }\n",
       "</style>\n",
       "<table border=\"1\" class=\"dataframe\">\n",
       "  <thead>\n",
       "    <tr style=\"text-align: right;\">\n",
       "      <th></th>\n",
       "      <th>VIN (1-10)</th>\n",
       "      <th>County</th>\n",
       "      <th>City</th>\n",
       "      <th>State</th>\n",
       "      <th>Postal Code</th>\n",
       "      <th>Model Year</th>\n",
       "      <th>Make</th>\n",
       "      <th>Model</th>\n",
       "      <th>Electric Vehicle Type</th>\n",
       "      <th>Clean Alternative Fuel Vehicle (CAFV) Eligibility</th>\n",
       "      <th>Electric Range</th>\n",
       "      <th>Base MSRP</th>\n",
       "      <th>Legislative District</th>\n",
       "      <th>DOL Vehicle ID</th>\n",
       "      <th>Vehicle Location</th>\n",
       "      <th>Electric Utility</th>\n",
       "      <th>2020 Census Tract</th>\n",
       "    </tr>\n",
       "  </thead>\n",
       "  <tbody>\n",
       "    <tr>\n",
       "      <th>0</th>\n",
       "      <td>5YJYGDEE1L</td>\n",
       "      <td>King</td>\n",
       "      <td>Seattle</td>\n",
       "      <td>WA</td>\n",
       "      <td>98122.0</td>\n",
       "      <td>2020</td>\n",
       "      <td>TESLA</td>\n",
       "      <td>MODEL Y</td>\n",
       "      <td>Battery Electric Vehicle (BEV)</td>\n",
       "      <td>Clean Alternative Fuel Vehicle Eligible</td>\n",
       "      <td>291</td>\n",
       "      <td>0</td>\n",
       "      <td>37.0</td>\n",
       "      <td>125701579</td>\n",
       "      <td>POINT (-122.30839 47.610365)</td>\n",
       "      <td>CITY OF SEATTLE - (WA)|CITY OF TACOMA - (WA)</td>\n",
       "      <td>5.303301e+10</td>\n",
       "    </tr>\n",
       "    <tr>\n",
       "      <th>1</th>\n",
       "      <td>7SAYGDEE9P</td>\n",
       "      <td>Snohomish</td>\n",
       "      <td>Bothell</td>\n",
       "      <td>WA</td>\n",
       "      <td>98021.0</td>\n",
       "      <td>2023</td>\n",
       "      <td>TESLA</td>\n",
       "      <td>MODEL Y</td>\n",
       "      <td>Battery Electric Vehicle (BEV)</td>\n",
       "      <td>Eligibility unknown as battery range has not b...</td>\n",
       "      <td>0</td>\n",
       "      <td>0</td>\n",
       "      <td>1.0</td>\n",
       "      <td>244285107</td>\n",
       "      <td>POINT (-122.179458 47.802589)</td>\n",
       "      <td>PUGET SOUND ENERGY INC</td>\n",
       "      <td>5.306105e+10</td>\n",
       "    </tr>\n",
       "    <tr>\n",
       "      <th>2</th>\n",
       "      <td>5YJSA1E4XK</td>\n",
       "      <td>King</td>\n",
       "      <td>Seattle</td>\n",
       "      <td>WA</td>\n",
       "      <td>98109.0</td>\n",
       "      <td>2019</td>\n",
       "      <td>TESLA</td>\n",
       "      <td>MODEL S</td>\n",
       "      <td>Battery Electric Vehicle (BEV)</td>\n",
       "      <td>Clean Alternative Fuel Vehicle Eligible</td>\n",
       "      <td>270</td>\n",
       "      <td>0</td>\n",
       "      <td>36.0</td>\n",
       "      <td>156773144</td>\n",
       "      <td>POINT (-122.34848 47.632405)</td>\n",
       "      <td>CITY OF SEATTLE - (WA)|CITY OF TACOMA - (WA)</td>\n",
       "      <td>5.303301e+10</td>\n",
       "    </tr>\n",
       "    <tr>\n",
       "      <th>3</th>\n",
       "      <td>5YJSA1E27G</td>\n",
       "      <td>King</td>\n",
       "      <td>Issaquah</td>\n",
       "      <td>WA</td>\n",
       "      <td>98027.0</td>\n",
       "      <td>2016</td>\n",
       "      <td>TESLA</td>\n",
       "      <td>MODEL S</td>\n",
       "      <td>Battery Electric Vehicle (BEV)</td>\n",
       "      <td>Clean Alternative Fuel Vehicle Eligible</td>\n",
       "      <td>210</td>\n",
       "      <td>0</td>\n",
       "      <td>5.0</td>\n",
       "      <td>165103011</td>\n",
       "      <td>POINT (-122.03646 47.534065)</td>\n",
       "      <td>PUGET SOUND ENERGY INC||CITY OF TACOMA - (WA)</td>\n",
       "      <td>5.303303e+10</td>\n",
       "    </tr>\n",
       "    <tr>\n",
       "      <th>4</th>\n",
       "      <td>5YJYGDEE5M</td>\n",
       "      <td>Kitsap</td>\n",
       "      <td>Suquamish</td>\n",
       "      <td>WA</td>\n",
       "      <td>98392.0</td>\n",
       "      <td>2021</td>\n",
       "      <td>TESLA</td>\n",
       "      <td>MODEL Y</td>\n",
       "      <td>Battery Electric Vehicle (BEV)</td>\n",
       "      <td>Eligibility unknown as battery range has not b...</td>\n",
       "      <td>0</td>\n",
       "      <td>0</td>\n",
       "      <td>23.0</td>\n",
       "      <td>205138552</td>\n",
       "      <td>POINT (-122.55717 47.733415)</td>\n",
       "      <td>PUGET SOUND ENERGY INC</td>\n",
       "      <td>5.303594e+10</td>\n",
       "    </tr>\n",
       "    <tr>\n",
       "      <th>5</th>\n",
       "      <td>3FA6P0SU8H</td>\n",
       "      <td>Thurston</td>\n",
       "      <td>Yelm</td>\n",
       "      <td>WA</td>\n",
       "      <td>98597.0</td>\n",
       "      <td>2017</td>\n",
       "      <td>FORD</td>\n",
       "      <td>FUSION</td>\n",
       "      <td>Plug-in Hybrid Electric Vehicle (PHEV)</td>\n",
       "      <td>Not eligible due to low battery range</td>\n",
       "      <td>21</td>\n",
       "      <td>0</td>\n",
       "      <td>2.0</td>\n",
       "      <td>122057736</td>\n",
       "      <td>POINT (-122.61023 46.94126)</td>\n",
       "      <td>PUGET SOUND ENERGY INC</td>\n",
       "      <td>5.306701e+10</td>\n",
       "    </tr>\n",
       "    <tr>\n",
       "      <th>6</th>\n",
       "      <td>1N4AZ0CP2D</td>\n",
       "      <td>Yakima</td>\n",
       "      <td>Yakima</td>\n",
       "      <td>WA</td>\n",
       "      <td>98903.0</td>\n",
       "      <td>2013</td>\n",
       "      <td>NISSAN</td>\n",
       "      <td>LEAF</td>\n",
       "      <td>Battery Electric Vehicle (BEV)</td>\n",
       "      <td>Clean Alternative Fuel Vehicle Eligible</td>\n",
       "      <td>75</td>\n",
       "      <td>0</td>\n",
       "      <td>14.0</td>\n",
       "      <td>150126840</td>\n",
       "      <td>POINT (-120.477805 46.553505)</td>\n",
       "      <td>PACIFICORP</td>\n",
       "      <td>5.307700e+10</td>\n",
       "    </tr>\n",
       "    <tr>\n",
       "      <th>7</th>\n",
       "      <td>KNAGV4LD9J</td>\n",
       "      <td>Snohomish</td>\n",
       "      <td>Bothell</td>\n",
       "      <td>WA</td>\n",
       "      <td>98012.0</td>\n",
       "      <td>2018</td>\n",
       "      <td>KIA</td>\n",
       "      <td>OPTIMA</td>\n",
       "      <td>Plug-in Hybrid Electric Vehicle (PHEV)</td>\n",
       "      <td>Not eligible due to low battery range</td>\n",
       "      <td>29</td>\n",
       "      <td>0</td>\n",
       "      <td>1.0</td>\n",
       "      <td>290605598</td>\n",
       "      <td>POINT (-122.1873 47.820245)</td>\n",
       "      <td>PUGET SOUND ENERGY INC</td>\n",
       "      <td>5.306105e+10</td>\n",
       "    </tr>\n",
       "    <tr>\n",
       "      <th>8</th>\n",
       "      <td>1N4AZ0CP8F</td>\n",
       "      <td>Kitsap</td>\n",
       "      <td>Port Orchard</td>\n",
       "      <td>WA</td>\n",
       "      <td>98366.0</td>\n",
       "      <td>2015</td>\n",
       "      <td>NISSAN</td>\n",
       "      <td>LEAF</td>\n",
       "      <td>Battery Electric Vehicle (BEV)</td>\n",
       "      <td>Clean Alternative Fuel Vehicle Eligible</td>\n",
       "      <td>84</td>\n",
       "      <td>0</td>\n",
       "      <td>26.0</td>\n",
       "      <td>137322111</td>\n",
       "      <td>POINT (-122.639265 47.5373)</td>\n",
       "      <td>PUGET SOUND ENERGY INC</td>\n",
       "      <td>5.303509e+10</td>\n",
       "    </tr>\n",
       "    <tr>\n",
       "      <th>9</th>\n",
       "      <td>5UXTA6C03N</td>\n",
       "      <td>King</td>\n",
       "      <td>Auburn</td>\n",
       "      <td>WA</td>\n",
       "      <td>98001.0</td>\n",
       "      <td>2022</td>\n",
       "      <td>BMW</td>\n",
       "      <td>X5</td>\n",
       "      <td>Plug-in Hybrid Electric Vehicle (PHEV)</td>\n",
       "      <td>Clean Alternative Fuel Vehicle Eligible</td>\n",
       "      <td>30</td>\n",
       "      <td>0</td>\n",
       "      <td>47.0</td>\n",
       "      <td>240226332</td>\n",
       "      <td>POINT (-122.2849393 47.3384055)</td>\n",
       "      <td>PUGET SOUND ENERGY INC||CITY OF TACOMA - (WA)</td>\n",
       "      <td>5.303303e+10</td>\n",
       "    </tr>\n",
       "  </tbody>\n",
       "</table>\n",
       "</div>"
      ],
      "text/plain": [
       "   VIN (1-10)     County          City State  Postal Code  Model Year    Make  \\\n",
       "0  5YJYGDEE1L       King       Seattle    WA      98122.0        2020   TESLA   \n",
       "1  7SAYGDEE9P  Snohomish       Bothell    WA      98021.0        2023   TESLA   \n",
       "2  5YJSA1E4XK       King       Seattle    WA      98109.0        2019   TESLA   \n",
       "3  5YJSA1E27G       King      Issaquah    WA      98027.0        2016   TESLA   \n",
       "4  5YJYGDEE5M     Kitsap     Suquamish    WA      98392.0        2021   TESLA   \n",
       "5  3FA6P0SU8H   Thurston          Yelm    WA      98597.0        2017    FORD   \n",
       "6  1N4AZ0CP2D     Yakima        Yakima    WA      98903.0        2013  NISSAN   \n",
       "7  KNAGV4LD9J  Snohomish       Bothell    WA      98012.0        2018     KIA   \n",
       "8  1N4AZ0CP8F     Kitsap  Port Orchard    WA      98366.0        2015  NISSAN   \n",
       "9  5UXTA6C03N       King        Auburn    WA      98001.0        2022     BMW   \n",
       "\n",
       "     Model                   Electric Vehicle Type  \\\n",
       "0  MODEL Y          Battery Electric Vehicle (BEV)   \n",
       "1  MODEL Y          Battery Electric Vehicle (BEV)   \n",
       "2  MODEL S          Battery Electric Vehicle (BEV)   \n",
       "3  MODEL S          Battery Electric Vehicle (BEV)   \n",
       "4  MODEL Y          Battery Electric Vehicle (BEV)   \n",
       "5   FUSION  Plug-in Hybrid Electric Vehicle (PHEV)   \n",
       "6     LEAF          Battery Electric Vehicle (BEV)   \n",
       "7   OPTIMA  Plug-in Hybrid Electric Vehicle (PHEV)   \n",
       "8     LEAF          Battery Electric Vehicle (BEV)   \n",
       "9       X5  Plug-in Hybrid Electric Vehicle (PHEV)   \n",
       "\n",
       "   Clean Alternative Fuel Vehicle (CAFV) Eligibility  Electric Range  \\\n",
       "0            Clean Alternative Fuel Vehicle Eligible             291   \n",
       "1  Eligibility unknown as battery range has not b...               0   \n",
       "2            Clean Alternative Fuel Vehicle Eligible             270   \n",
       "3            Clean Alternative Fuel Vehicle Eligible             210   \n",
       "4  Eligibility unknown as battery range has not b...               0   \n",
       "5              Not eligible due to low battery range              21   \n",
       "6            Clean Alternative Fuel Vehicle Eligible              75   \n",
       "7              Not eligible due to low battery range              29   \n",
       "8            Clean Alternative Fuel Vehicle Eligible              84   \n",
       "9            Clean Alternative Fuel Vehicle Eligible              30   \n",
       "\n",
       "   Base MSRP  Legislative District  DOL Vehicle ID  \\\n",
       "0          0                  37.0       125701579   \n",
       "1          0                   1.0       244285107   \n",
       "2          0                  36.0       156773144   \n",
       "3          0                   5.0       165103011   \n",
       "4          0                  23.0       205138552   \n",
       "5          0                   2.0       122057736   \n",
       "6          0                  14.0       150126840   \n",
       "7          0                   1.0       290605598   \n",
       "8          0                  26.0       137322111   \n",
       "9          0                  47.0       240226332   \n",
       "\n",
       "                  Vehicle Location  \\\n",
       "0     POINT (-122.30839 47.610365)   \n",
       "1    POINT (-122.179458 47.802589)   \n",
       "2     POINT (-122.34848 47.632405)   \n",
       "3     POINT (-122.03646 47.534065)   \n",
       "4     POINT (-122.55717 47.733415)   \n",
       "5      POINT (-122.61023 46.94126)   \n",
       "6    POINT (-120.477805 46.553505)   \n",
       "7      POINT (-122.1873 47.820245)   \n",
       "8      POINT (-122.639265 47.5373)   \n",
       "9  POINT (-122.2849393 47.3384055)   \n",
       "\n",
       "                                Electric Utility  2020 Census Tract  \n",
       "0   CITY OF SEATTLE - (WA)|CITY OF TACOMA - (WA)       5.303301e+10  \n",
       "1                         PUGET SOUND ENERGY INC       5.306105e+10  \n",
       "2   CITY OF SEATTLE - (WA)|CITY OF TACOMA - (WA)       5.303301e+10  \n",
       "3  PUGET SOUND ENERGY INC||CITY OF TACOMA - (WA)       5.303303e+10  \n",
       "4                         PUGET SOUND ENERGY INC       5.303594e+10  \n",
       "5                         PUGET SOUND ENERGY INC       5.306701e+10  \n",
       "6                                     PACIFICORP       5.307700e+10  \n",
       "7                         PUGET SOUND ENERGY INC       5.306105e+10  \n",
       "8                         PUGET SOUND ENERGY INC       5.303509e+10  \n",
       "9  PUGET SOUND ENERGY INC||CITY OF TACOMA - (WA)       5.303303e+10  "
      ]
     },
     "execution_count": 43,
     "metadata": {},
     "output_type": "execute_result"
    }
   ],
   "source": [
    "# View of DataFrame\n",
    "df.head(10)"
   ]
  },
  {
   "cell_type": "code",
   "execution_count": 44,
   "metadata": {},
   "outputs": [
    {
     "name": "stdout",
     "output_type": "stream",
     "text": [
      "<class 'pandas.core.frame.DataFrame'>\n",
      "RangeIndex: 177866 entries, 0 to 177865\n",
      "Data columns (total 17 columns):\n",
      " #   Column                                             Non-Null Count   Dtype  \n",
      "---  ------                                             --------------   -----  \n",
      " 0   VIN (1-10)                                         177866 non-null  object \n",
      " 1   County                                             177861 non-null  object \n",
      " 2   City                                               177861 non-null  object \n",
      " 3   State                                              177866 non-null  object \n",
      " 4   Postal Code                                        177861 non-null  float64\n",
      " 5   Model Year                                         177866 non-null  int64  \n",
      " 6   Make                                               177866 non-null  object \n",
      " 7   Model                                              177866 non-null  object \n",
      " 8   Electric Vehicle Type                              177866 non-null  object \n",
      " 9   Clean Alternative Fuel Vehicle (CAFV) Eligibility  177866 non-null  object \n",
      " 10  Electric Range                                     177866 non-null  int64  \n",
      " 11  Base MSRP                                          177866 non-null  int64  \n",
      " 12  Legislative District                               177477 non-null  float64\n",
      " 13  DOL Vehicle ID                                     177866 non-null  int64  \n",
      " 14  Vehicle Location                                   177857 non-null  object \n",
      " 15  Electric Utility                                   177861 non-null  object \n",
      " 16  2020 Census Tract                                  177861 non-null  float64\n",
      "dtypes: float64(3), int64(4), object(10)\n",
      "memory usage: 23.1+ MB\n"
     ]
    }
   ],
   "source": [
    "# Checking dtypes and null values\n",
    "df.info()"
   ]
  },
  {
   "cell_type": "code",
   "execution_count": 45,
   "metadata": {},
   "outputs": [
    {
     "data": {
      "application/vnd.microsoft.datawrangler.viewer.v0+json": {
       "columns": [
        {
         "name": "index",
         "rawType": "object",
         "type": "string"
        },
        {
         "name": "0",
         "rawType": "int64",
         "type": "integer"
        }
       ],
       "ref": "51bcd198-47f9-4f7c-be4d-2df724f94fa9",
       "rows": [
        [
         "VIN (1-10)",
         "0"
        ],
        [
         "County",
         "5"
        ],
        [
         "City",
         "5"
        ],
        [
         "State",
         "0"
        ],
        [
         "Postal Code",
         "5"
        ],
        [
         "Model Year",
         "0"
        ],
        [
         "Make",
         "0"
        ],
        [
         "Model",
         "0"
        ],
        [
         "Electric Vehicle Type",
         "0"
        ],
        [
         "Clean Alternative Fuel Vehicle (CAFV) Eligibility",
         "0"
        ],
        [
         "Electric Range",
         "0"
        ],
        [
         "Base MSRP",
         "0"
        ],
        [
         "Legislative District",
         "389"
        ],
        [
         "DOL Vehicle ID",
         "0"
        ],
        [
         "Vehicle Location",
         "9"
        ],
        [
         "Electric Utility",
         "5"
        ],
        [
         "2020 Census Tract",
         "5"
        ]
       ],
       "shape": {
        "columns": 1,
        "rows": 17
       }
      },
      "text/plain": [
       "VIN (1-10)                                             0\n",
       "County                                                 5\n",
       "City                                                   5\n",
       "State                                                  0\n",
       "Postal Code                                            5\n",
       "Model Year                                             0\n",
       "Make                                                   0\n",
       "Model                                                  0\n",
       "Electric Vehicle Type                                  0\n",
       "Clean Alternative Fuel Vehicle (CAFV) Eligibility      0\n",
       "Electric Range                                         0\n",
       "Base MSRP                                              0\n",
       "Legislative District                                 389\n",
       "DOL Vehicle ID                                         0\n",
       "Vehicle Location                                       9\n",
       "Electric Utility                                       5\n",
       "2020 Census Tract                                      5\n",
       "dtype: int64"
      ]
     },
     "execution_count": 45,
     "metadata": {},
     "output_type": "execute_result"
    }
   ],
   "source": [
    "# Checking for coluns with null values\n",
    "df.isna().sum()"
   ]
  },
  {
   "cell_type": "code",
   "execution_count": null,
   "metadata": {},
   "outputs": [],
   "source": [
    "# Dropping all rows with missing values\n",
    "df.dropna(how='all',inplace=True)"
   ]
  },
  {
   "cell_type": "code",
   "execution_count": null,
   "metadata": {},
   "outputs": [
    {
     "name": "stdout",
     "output_type": "stream",
     "text": [
      "<class 'pandas.core.frame.DataFrame'>\n",
      "RangeIndex: 177866 entries, 0 to 177865\n",
      "Data columns (total 17 columns):\n",
      " #   Column                                             Non-Null Count   Dtype  \n",
      "---  ------                                             --------------   -----  \n",
      " 0   VIN (1-10)                                         177866 non-null  object \n",
      " 1   County                                             177866 non-null  object \n",
      " 2   City                                               177866 non-null  object \n",
      " 3   State                                              177866 non-null  object \n",
      " 4   Postal Code                                        177866 non-null  float64\n",
      " 5   Model Year                                         177866 non-null  int64  \n",
      " 6   Make                                               177866 non-null  object \n",
      " 7   Model                                              177866 non-null  object \n",
      " 8   Electric Vehicle Type                              177866 non-null  object \n",
      " 9   Clean Alternative Fuel Vehicle (CAFV) Eligibility  177866 non-null  object \n",
      " 10  Electric Range                                     177866 non-null  int64  \n",
      " 11  Base MSRP                                          177866 non-null  int64  \n",
      " 12  Legislative District                               177866 non-null  float64\n",
      " 13  DOL Vehicle ID                                     177866 non-null  int64  \n",
      " 14  Vehicle Location                                   177866 non-null  object \n",
      " 15  Electric Utility                                   177866 non-null  object \n",
      " 16  2020 Census Tract                                  177866 non-null  float64\n",
      "dtypes: float64(3), int64(4), object(10)\n",
      "memory usage: 23.1+ MB\n"
     ]
    }
   ],
   "source": [
    "# checking again for missing values\n",
    "df.info()"
   ]
  },
  {
   "cell_type": "code",
   "execution_count": 46,
   "metadata": {},
   "outputs": [
    {
     "data": {
      "application/vnd.microsoft.datawrangler.viewer.v0+json": {
       "columns": [
        {
         "name": "index",
         "rawType": "int64",
         "type": "integer"
        },
        {
         "name": "Postal Code",
         "rawType": "float64",
         "type": "float"
        },
        {
         "name": "City",
         "rawType": "object",
         "type": "string"
        },
        {
         "name": "County",
         "rawType": "object",
         "type": "string"
        }
       ],
       "ref": "f5cc63f3-d840-4ea7-96ef-928dac56e03f",
       "rows": [
        [
         "151169",
         "1545.0",
         "Shrewsbury",
         "Worcester"
        ],
        [
         "135027",
         "1730.0",
         "Bedford",
         "Middlesex"
        ],
        [
         "156864",
         "1731.0",
         "Hanscom Afb",
         "Middlesex"
        ],
        [
         "151117",
         "1824.0",
         "Chelmsford",
         "Middlesex"
        ],
        [
         "113699",
         "1905.0",
         "Lynn",
         "Essex"
        ],
        [
         "137304",
         "2842.0",
         "Middletown",
         "Newport"
        ],
        [
         "153827",
         "2909.0",
         "Providence",
         "Providence"
        ],
        [
         "120187",
         "3804.0",
         "Portsmouth",
         "Rockingham"
        ],
        [
         "171745",
         "6340.0",
         "Groton",
         "New London"
        ],
        [
         "121242",
         "6355.0",
         "Mystic",
         "New London"
        ],
        [
         "124781",
         "6371.0",
         "Old Lyme",
         "New London"
        ],
        [
         "152379",
         "6385.0",
         "Waterford",
         "New London"
        ],
        [
         "116783",
         "6443.0",
         "Madison",
         "New Haven"
        ],
        [
         "144844",
         "7003.0",
         "Bloomfield",
         "Essex"
        ],
        [
         "174707",
         "7042.0",
         "Montclair",
         "Essex"
        ],
        [
         "147481",
         "7103.0",
         "Newark",
         "Essex"
        ],
        [
         "137630",
         "8055.0",
         "Medford",
         "Burlington"
        ],
        [
         "166299",
         "8234.0",
         "Egg Harbor Township",
         "Atlantic"
        ],
        [
         "156887",
         "8540.0",
         "Princeton",
         "Mercer"
        ],
        [
         "117518",
         "8641.0",
         "Joint Base Mdl",
         "Burlington"
        ]
       ],
       "shape": {
        "columns": 3,
        "rows": 20
       }
      },
      "text/html": [
       "<div>\n",
       "<style scoped>\n",
       "    .dataframe tbody tr th:only-of-type {\n",
       "        vertical-align: middle;\n",
       "    }\n",
       "\n",
       "    .dataframe tbody tr th {\n",
       "        vertical-align: top;\n",
       "    }\n",
       "\n",
       "    .dataframe thead th {\n",
       "        text-align: right;\n",
       "    }\n",
       "</style>\n",
       "<table border=\"1\" class=\"dataframe\">\n",
       "  <thead>\n",
       "    <tr style=\"text-align: right;\">\n",
       "      <th></th>\n",
       "      <th>Postal Code</th>\n",
       "      <th>City</th>\n",
       "      <th>County</th>\n",
       "    </tr>\n",
       "  </thead>\n",
       "  <tbody>\n",
       "    <tr>\n",
       "      <th>151169</th>\n",
       "      <td>1545.0</td>\n",
       "      <td>Shrewsbury</td>\n",
       "      <td>Worcester</td>\n",
       "    </tr>\n",
       "    <tr>\n",
       "      <th>135027</th>\n",
       "      <td>1730.0</td>\n",
       "      <td>Bedford</td>\n",
       "      <td>Middlesex</td>\n",
       "    </tr>\n",
       "    <tr>\n",
       "      <th>156864</th>\n",
       "      <td>1731.0</td>\n",
       "      <td>Hanscom Afb</td>\n",
       "      <td>Middlesex</td>\n",
       "    </tr>\n",
       "    <tr>\n",
       "      <th>151117</th>\n",
       "      <td>1824.0</td>\n",
       "      <td>Chelmsford</td>\n",
       "      <td>Middlesex</td>\n",
       "    </tr>\n",
       "    <tr>\n",
       "      <th>113699</th>\n",
       "      <td>1905.0</td>\n",
       "      <td>Lynn</td>\n",
       "      <td>Essex</td>\n",
       "    </tr>\n",
       "    <tr>\n",
       "      <th>137304</th>\n",
       "      <td>2842.0</td>\n",
       "      <td>Middletown</td>\n",
       "      <td>Newport</td>\n",
       "    </tr>\n",
       "    <tr>\n",
       "      <th>153827</th>\n",
       "      <td>2909.0</td>\n",
       "      <td>Providence</td>\n",
       "      <td>Providence</td>\n",
       "    </tr>\n",
       "    <tr>\n",
       "      <th>120187</th>\n",
       "      <td>3804.0</td>\n",
       "      <td>Portsmouth</td>\n",
       "      <td>Rockingham</td>\n",
       "    </tr>\n",
       "    <tr>\n",
       "      <th>171745</th>\n",
       "      <td>6340.0</td>\n",
       "      <td>Groton</td>\n",
       "      <td>New London</td>\n",
       "    </tr>\n",
       "    <tr>\n",
       "      <th>121242</th>\n",
       "      <td>6355.0</td>\n",
       "      <td>Mystic</td>\n",
       "      <td>New London</td>\n",
       "    </tr>\n",
       "    <tr>\n",
       "      <th>124781</th>\n",
       "      <td>6371.0</td>\n",
       "      <td>Old Lyme</td>\n",
       "      <td>New London</td>\n",
       "    </tr>\n",
       "    <tr>\n",
       "      <th>152379</th>\n",
       "      <td>6385.0</td>\n",
       "      <td>Waterford</td>\n",
       "      <td>New London</td>\n",
       "    </tr>\n",
       "    <tr>\n",
       "      <th>116783</th>\n",
       "      <td>6443.0</td>\n",
       "      <td>Madison</td>\n",
       "      <td>New Haven</td>\n",
       "    </tr>\n",
       "    <tr>\n",
       "      <th>144844</th>\n",
       "      <td>7003.0</td>\n",
       "      <td>Bloomfield</td>\n",
       "      <td>Essex</td>\n",
       "    </tr>\n",
       "    <tr>\n",
       "      <th>174707</th>\n",
       "      <td>7042.0</td>\n",
       "      <td>Montclair</td>\n",
       "      <td>Essex</td>\n",
       "    </tr>\n",
       "    <tr>\n",
       "      <th>147481</th>\n",
       "      <td>7103.0</td>\n",
       "      <td>Newark</td>\n",
       "      <td>Essex</td>\n",
       "    </tr>\n",
       "    <tr>\n",
       "      <th>137630</th>\n",
       "      <td>8055.0</td>\n",
       "      <td>Medford</td>\n",
       "      <td>Burlington</td>\n",
       "    </tr>\n",
       "    <tr>\n",
       "      <th>166299</th>\n",
       "      <td>8234.0</td>\n",
       "      <td>Egg Harbor Township</td>\n",
       "      <td>Atlantic</td>\n",
       "    </tr>\n",
       "    <tr>\n",
       "      <th>156887</th>\n",
       "      <td>8540.0</td>\n",
       "      <td>Princeton</td>\n",
       "      <td>Mercer</td>\n",
       "    </tr>\n",
       "    <tr>\n",
       "      <th>117518</th>\n",
       "      <td>8641.0</td>\n",
       "      <td>Joint Base Mdl</td>\n",
       "      <td>Burlington</td>\n",
       "    </tr>\n",
       "  </tbody>\n",
       "</table>\n",
       "</div>"
      ],
      "text/plain": [
       "        Postal Code                 City      County\n",
       "151169       1545.0           Shrewsbury   Worcester\n",
       "135027       1730.0              Bedford   Middlesex\n",
       "156864       1731.0          Hanscom Afb   Middlesex\n",
       "151117       1824.0           Chelmsford   Middlesex\n",
       "113699       1905.0                 Lynn       Essex\n",
       "137304       2842.0           Middletown     Newport\n",
       "153827       2909.0           Providence  Providence\n",
       "120187       3804.0           Portsmouth  Rockingham\n",
       "171745       6340.0               Groton  New London\n",
       "121242       6355.0               Mystic  New London\n",
       "124781       6371.0             Old Lyme  New London\n",
       "152379       6385.0            Waterford  New London\n",
       "116783       6443.0              Madison   New Haven\n",
       "144844       7003.0           Bloomfield       Essex\n",
       "174707       7042.0            Montclair       Essex\n",
       "147481       7103.0               Newark       Essex\n",
       "137630       8055.0              Medford  Burlington\n",
       "166299       8234.0  Egg Harbor Township    Atlantic\n",
       "156887       8540.0            Princeton      Mercer\n",
       "117518       8641.0       Joint Base Mdl  Burlington"
      ]
     },
     "execution_count": 46,
     "metadata": {},
     "output_type": "execute_result"
    }
   ],
   "source": [
    "# Display unique postal codes and their corresponding cities and counties\n",
    "df[['Postal Code', 'City', 'County']].drop_duplicates().sort_values('Postal Code').head(20)"
   ]
  },
  {
   "cell_type": "code",
   "execution_count": 47,
   "metadata": {},
   "outputs": [
    {
     "data": {
      "application/vnd.microsoft.datawrangler.viewer.v0+json": {
       "columns": [
        {
         "name": "index",
         "rawType": "int64",
         "type": "integer"
        },
        {
         "name": "VIN (1-10)",
         "rawType": "object",
         "type": "string"
        },
        {
         "name": "County",
         "rawType": "object",
         "type": "unknown"
        },
        {
         "name": "City",
         "rawType": "object",
         "type": "unknown"
        }
       ],
       "ref": "69386df5-deb4-4eda-9995-e3e9e60a4198",
       "rows": [
        [
         "149245",
         "5YJSA1E21J",
         null,
         null
        ],
        [
         "154553",
         "5YJ3E1EA5K",
         null,
         null
        ],
        [
         "159157",
         "5YJRE11B48",
         null,
         null
        ],
        [
         "167298",
         "5YJXCAE24H",
         null,
         null
        ],
        [
         "170413",
         "1N4AZ0CP1D",
         null,
         null
        ]
       ],
       "shape": {
        "columns": 3,
        "rows": 5
       }
      },
      "text/html": [
       "<div>\n",
       "<style scoped>\n",
       "    .dataframe tbody tr th:only-of-type {\n",
       "        vertical-align: middle;\n",
       "    }\n",
       "\n",
       "    .dataframe tbody tr th {\n",
       "        vertical-align: top;\n",
       "    }\n",
       "\n",
       "    .dataframe thead th {\n",
       "        text-align: right;\n",
       "    }\n",
       "</style>\n",
       "<table border=\"1\" class=\"dataframe\">\n",
       "  <thead>\n",
       "    <tr style=\"text-align: right;\">\n",
       "      <th></th>\n",
       "      <th>VIN (1-10)</th>\n",
       "      <th>County</th>\n",
       "      <th>City</th>\n",
       "    </tr>\n",
       "  </thead>\n",
       "  <tbody>\n",
       "    <tr>\n",
       "      <th>149245</th>\n",
       "      <td>5YJSA1E21J</td>\n",
       "      <td>NaN</td>\n",
       "      <td>NaN</td>\n",
       "    </tr>\n",
       "    <tr>\n",
       "      <th>154553</th>\n",
       "      <td>5YJ3E1EA5K</td>\n",
       "      <td>NaN</td>\n",
       "      <td>NaN</td>\n",
       "    </tr>\n",
       "    <tr>\n",
       "      <th>159157</th>\n",
       "      <td>5YJRE11B48</td>\n",
       "      <td>NaN</td>\n",
       "      <td>NaN</td>\n",
       "    </tr>\n",
       "    <tr>\n",
       "      <th>167298</th>\n",
       "      <td>5YJXCAE24H</td>\n",
       "      <td>NaN</td>\n",
       "      <td>NaN</td>\n",
       "    </tr>\n",
       "    <tr>\n",
       "      <th>170413</th>\n",
       "      <td>1N4AZ0CP1D</td>\n",
       "      <td>NaN</td>\n",
       "      <td>NaN</td>\n",
       "    </tr>\n",
       "  </tbody>\n",
       "</table>\n",
       "</div>"
      ],
      "text/plain": [
       "        VIN (1-10) County City\n",
       "149245  5YJSA1E21J    NaN  NaN\n",
       "154553  5YJ3E1EA5K    NaN  NaN\n",
       "159157  5YJRE11B48    NaN  NaN\n",
       "167298  5YJXCAE24H    NaN  NaN\n",
       "170413  1N4AZ0CP1D    NaN  NaN"
      ]
     },
     "execution_count": 47,
     "metadata": {},
     "output_type": "execute_result"
    }
   ],
   "source": [
    "df.isnull().sum()\n",
    "df['County'].value_counts()\n",
    "\n",
    "to_replace = df.loc[df['County'].isnull()][['VIN (1-10)','County', 'City']]\n",
    "to_replace\n"
   ]
  },
  {
   "cell_type": "code",
   "execution_count": 48,
   "metadata": {},
   "outputs": [
    {
     "data": {
      "application/vnd.microsoft.datawrangler.viewer.v0+json": {
       "columns": [
        {
         "name": "index",
         "rawType": "object",
         "type": "string"
        },
        {
         "name": "0",
         "rawType": "int64",
         "type": "integer"
        }
       ],
       "ref": "2d32f4a6-9c18-41e2-88ef-d670c913eacf",
       "rows": [
        [
         "VIN (1-10)",
         "0"
        ],
        [
         "County",
         "0"
        ],
        [
         "City",
         "0"
        ],
        [
         "State",
         "0"
        ],
        [
         "Postal Code",
         "0"
        ],
        [
         "Model Year",
         "0"
        ],
        [
         "Make",
         "0"
        ],
        [
         "Model",
         "0"
        ],
        [
         "Electric Vehicle Type",
         "0"
        ],
        [
         "Clean Alternative Fuel Vehicle (CAFV) Eligibility",
         "0"
        ],
        [
         "Electric Range",
         "0"
        ],
        [
         "Base MSRP",
         "0"
        ],
        [
         "Legislative District",
         "0"
        ],
        [
         "DOL Vehicle ID",
         "0"
        ],
        [
         "Vehicle Location",
         "0"
        ],
        [
         "Electric Utility",
         "0"
        ],
        [
         "2020 Census Tract",
         "0"
        ]
       ],
       "shape": {
        "columns": 1,
        "rows": 17
       }
      },
      "text/plain": [
       "VIN (1-10)                                           0\n",
       "County                                               0\n",
       "City                                                 0\n",
       "State                                                0\n",
       "Postal Code                                          0\n",
       "Model Year                                           0\n",
       "Make                                                 0\n",
       "Model                                                0\n",
       "Electric Vehicle Type                                0\n",
       "Clean Alternative Fuel Vehicle (CAFV) Eligibility    0\n",
       "Electric Range                                       0\n",
       "Base MSRP                                            0\n",
       "Legislative District                                 0\n",
       "DOL Vehicle ID                                       0\n",
       "Vehicle Location                                     0\n",
       "Electric Utility                                     0\n",
       "2020 Census Tract                                    0\n",
       "dtype: int64"
      ]
     },
     "execution_count": 48,
     "metadata": {},
     "output_type": "execute_result"
    }
   ],
   "source": [
    "def fill_missing_data(column):\n",
    "    # Find the most frequent value in each column\n",
    "    most_frequent_values = df.mode().iloc[0]\n",
    "    \n",
    "    # Fill missing values with the most frequent value\n",
    "    for column in df.columns:\n",
    "        df.fillna({column: most_frequent_values[column]}, inplace=True)\n",
    "    \n",
    "    return df.isna().sum()\n",
    "\n",
    "fill_missing_data(['Vehicle Location','Electric Utility', 'County', 'City'])\n"
   ]
  },
  {
   "cell_type": "markdown",
   "metadata": {},
   "source": [
    "Analyze the growth of the EV population by model year."
   ]
  },
  {
   "cell_type": "code",
   "execution_count": 49,
   "metadata": {},
   "outputs": [
    {
     "data": {
      "text/plain": [
       "array([57587, 27776, 19132, 14323, 11768, 10940,  8562,  7080,  5483,\n",
       "        4844,  4409,  3509,  1618,   775,    23,    20,     7,     5,\n",
       "           2,     1,     1,     1])"
      ]
     },
     "execution_count": 49,
     "metadata": {},
     "output_type": "execute_result"
    }
   ],
   "source": [
    "df['Model Year'].value_counts().values\n"
   ]
  },
  {
   "cell_type": "code",
   "execution_count": 50,
   "metadata": {},
   "outputs": [
    {
     "data": {
      "image/png": "[encoded data removed]",
      "text/plain": [
       "<Figure size 640x480 with 1 Axes>"
      ]
     },
     "metadata": {},
     "output_type": "display_data"
    }
   ],
   "source": [
    "vehicle_count = df['Model Year'].value_counts()\n",
    "\n",
    "plt.bar( vehicle_count.index, vehicle_count.values)\n",
    "\n",
    "plt.title('population by model year')\n",
    "plt.xticks(vehicle_count.index, rotation=45)\n",
    "plt.tight_layout()\n",
    "plt.show()"
   ]
  },
  {
   "cell_type": "markdown",
   "metadata": {},
   "source": [
    "Geographical Distribution: Understand where EVs are most commonly registered (e.g., by county or city)."
   ]
  },
  {
   "cell_type": "code",
   "execution_count": 51,
   "metadata": {},
   "outputs": [
    {
     "data": {
      "application/vnd.microsoft.datawrangler.viewer.v0+json": {
       "columns": [
        {
         "name": "index",
         "rawType": "int64",
         "type": "integer"
        },
        {
         "name": "VIN (1-10)",
         "rawType": "object",
         "type": "string"
        },
        {
         "name": "County",
         "rawType": "object",
         "type": "string"
        },
        {
         "name": "City",
         "rawType": "object",
         "type": "string"
        },
        {
         "name": "State",
         "rawType": "object",
         "type": "string"
        },
        {
         "name": "Postal Code",
         "rawType": "float64",
         "type": "float"
        },
        {
         "name": "Model Year",
         "rawType": "int64",
         "type": "integer"
        },
        {
         "name": "Make",
         "rawType": "object",
         "type": "string"
        },
        {
         "name": "Model",
         "rawType": "object",
         "type": "string"
        },
        {
         "name": "Electric Vehicle Type",
         "rawType": "object",
         "type": "string"
        },
        {
         "name": "Clean Alternative Fuel Vehicle (CAFV) Eligibility",
         "rawType": "object",
         "type": "string"
        },
        {
         "name": "Electric Range",
         "rawType": "int64",
         "type": "integer"
        },
        {
         "name": "Base MSRP",
         "rawType": "int64",
         "type": "integer"
        },
        {
         "name": "Legislative District",
         "rawType": "float64",
         "type": "float"
        },
        {
         "name": "DOL Vehicle ID",
         "rawType": "int64",
         "type": "integer"
        },
        {
         "name": "Vehicle Location",
         "rawType": "object",
         "type": "string"
        },
        {
         "name": "Electric Utility",
         "rawType": "object",
         "type": "string"
        },
        {
         "name": "2020 Census Tract",
         "rawType": "float64",
         "type": "float"
        }
       ],
       "ref": "2664ef18-354c-4570-b5ea-fc42a49e0ebd",
       "rows": [
        [
         "0",
         "5YJYGDEE1L",
         "King",
         "Seattle",
         "WA",
         "98122.0",
         "2020",
         "TESLA",
         "MODEL Y",
         "Battery Electric Vehicle (BEV)",
         "Clean Alternative Fuel Vehicle Eligible",
         "291",
         "0",
         "37.0",
         "125701579",
         "POINT (-122.30839 47.610365)",
         "CITY OF SEATTLE - (WA)|CITY OF TACOMA - (WA)",
         "53033007800.0"
        ],
        [
         "1",
         "7SAYGDEE9P",
         "Snohomish",
         "Bothell",
         "WA",
         "98021.0",
         "2023",
         "TESLA",
         "MODEL Y",
         "Battery Electric Vehicle (BEV)",
         "Eligibility unknown as battery range has not been researched",
         "0",
         "0",
         "1.0",
         "244285107",
         "POINT (-122.179458 47.802589)",
         "PUGET SOUND ENERGY INC",
         "53061051938.0"
        ],
        [
         "2",
         "5YJSA1E4XK",
         "King",
         "Seattle",
         "WA",
         "98109.0",
         "2019",
         "TESLA",
         "MODEL S",
         "Battery Electric Vehicle (BEV)",
         "Clean Alternative Fuel Vehicle Eligible",
         "270",
         "0",
         "36.0",
         "156773144",
         "POINT (-122.34848 47.632405)",
         "CITY OF SEATTLE - (WA)|CITY OF TACOMA - (WA)",
         "53033006800.0"
        ],
        [
         "3",
         "5YJSA1E27G",
         "King",
         "Issaquah",
         "WA",
         "98027.0",
         "2016",
         "TESLA",
         "MODEL S",
         "Battery Electric Vehicle (BEV)",
         "Clean Alternative Fuel Vehicle Eligible",
         "210",
         "0",
         "5.0",
         "165103011",
         "POINT (-122.03646 47.534065)",
         "PUGET SOUND ENERGY INC||CITY OF TACOMA - (WA)",
         "53033032104.0"
        ],
        [
         "4",
         "5YJYGDEE5M",
         "Kitsap",
         "Suquamish",
         "WA",
         "98392.0",
         "2021",
         "TESLA",
         "MODEL Y",
         "Battery Electric Vehicle (BEV)",
         "Eligibility unknown as battery range has not been researched",
         "0",
         "0",
         "23.0",
         "205138552",
         "POINT (-122.55717 47.733415)",
         "PUGET SOUND ENERGY INC",
         "53035940100.0"
        ]
       ],
       "shape": {
        "columns": 17,
        "rows": 5
       }
      },
      "text/html": [
       "<div>\n",
       "<style scoped>\n",
       "    .dataframe tbody tr th:only-of-type {\n",
       "        vertical-align: middle;\n",
       "    }\n",
       "\n",
       "    .dataframe tbody tr th {\n",
       "        vertical-align: top;\n",
       "    }\n",
       "\n",
       "    .dataframe thead th {\n",
       "        text-align: right;\n",
       "    }\n",
       "</style>\n",
       "<table border=\"1\" class=\"dataframe\">\n",
       "  <thead>\n",
       "    <tr style=\"text-align: right;\">\n",
       "      <th></th>\n",
       "      <th>VIN (1-10)</th>\n",
       "      <th>County</th>\n",
       "      <th>City</th>\n",
       "      <th>State</th>\n",
       "      <th>Postal Code</th>\n",
       "      <th>Model Year</th>\n",
       "      <th>Make</th>\n",
       "      <th>Model</th>\n",
       "      <th>Electric Vehicle Type</th>\n",
       "      <th>Clean Alternative Fuel Vehicle (CAFV) Eligibility</th>\n",
       "      <th>Electric Range</th>\n",
       "      <th>Base MSRP</th>\n",
       "      <th>Legislative District</th>\n",
       "      <th>DOL Vehicle ID</th>\n",
       "      <th>Vehicle Location</th>\n",
       "      <th>Electric Utility</th>\n",
       "      <th>2020 Census Tract</th>\n",
       "    </tr>\n",
       "  </thead>\n",
       "  <tbody>\n",
       "    <tr>\n",
       "      <th>0</th>\n",
       "      <td>5YJYGDEE1L</td>\n",
       "      <td>King</td>\n",
       "      <td>Seattle</td>\n",
       "      <td>WA</td>\n",
       "      <td>98122.0</td>\n",
       "      <td>2020</td>\n",
       "      <td>TESLA</td>\n",
       "      <td>MODEL Y</td>\n",
       "      <td>Battery Electric Vehicle (BEV)</td>\n",
       "      <td>Clean Alternative Fuel Vehicle Eligible</td>\n",
       "      <td>291</td>\n",
       "      <td>0</td>\n",
       "      <td>37.0</td>\n",
       "      <td>125701579</td>\n",
       "      <td>POINT (-122.30839 47.610365)</td>\n",
       "      <td>CITY OF SEATTLE - (WA)|CITY OF TACOMA - (WA)</td>\n",
       "      <td>5.303301e+10</td>\n",
       "    </tr>\n",
       "    <tr>\n",
       "      <th>1</th>\n",
       "      <td>7SAYGDEE9P</td>\n",
       "      <td>Snohomish</td>\n",
       "      <td>Bothell</td>\n",
       "      <td>WA</td>\n",
       "      <td>98021.0</td>\n",
       "      <td>2023</td>\n",
       "      <td>TESLA</td>\n",
       "      <td>MODEL Y</td>\n",
       "      <td>Battery Electric Vehicle (BEV)</td>\n",
       "      <td>Eligibility unknown as battery range has not b...</td>\n",
       "      <td>0</td>\n",
       "      <td>0</td>\n",
       "      <td>1.0</td>\n",
       "      <td>244285107</td>\n",
       "      <td>POINT (-122.179458 47.802589)</td>\n",
       "      <td>PUGET SOUND ENERGY INC</td>\n",
       "      <td>5.306105e+10</td>\n",
       "    </tr>\n",
       "    <tr>\n",
       "      <th>2</th>\n",
       "      <td>5YJSA1E4XK</td>\n",
       "      <td>King</td>\n",
       "      <td>Seattle</td>\n",
       "      <td>WA</td>\n",
       "      <td>98109.0</td>\n",
       "      <td>2019</td>\n",
       "      <td>TESLA</td>\n",
       "      <td>MODEL S</td>\n",
       "      <td>Battery Electric Vehicle (BEV)</td>\n",
       "      <td>Clean Alternative Fuel Vehicle Eligible</td>\n",
       "      <td>270</td>\n",
       "      <td>0</td>\n",
       "      <td>36.0</td>\n",
       "      <td>156773144</td>\n",
       "      <td>POINT (-122.34848 47.632405)</td>\n",
       "      <td>CITY OF SEATTLE - (WA)|CITY OF TACOMA - (WA)</td>\n",
       "      <td>5.303301e+10</td>\n",
       "    </tr>\n",
       "    <tr>\n",
       "      <th>3</th>\n",
       "      <td>5YJSA1E27G</td>\n",
       "      <td>King</td>\n",
       "      <td>Issaquah</td>\n",
       "      <td>WA</td>\n",
       "      <td>98027.0</td>\n",
       "      <td>2016</td>\n",
       "      <td>TESLA</td>\n",
       "      <td>MODEL S</td>\n",
       "      <td>Battery Electric Vehicle (BEV)</td>\n",
       "      <td>Clean Alternative Fuel Vehicle Eligible</td>\n",
       "      <td>210</td>\n",
       "      <td>0</td>\n",
       "      <td>5.0</td>\n",
       "      <td>165103011</td>\n",
       "      <td>POINT (-122.03646 47.534065)</td>\n",
       "      <td>PUGET SOUND ENERGY INC||CITY OF TACOMA - (WA)</td>\n",
       "      <td>5.303303e+10</td>\n",
       "    </tr>\n",
       "    <tr>\n",
       "      <th>4</th>\n",
       "      <td>5YJYGDEE5M</td>\n",
       "      <td>Kitsap</td>\n",
       "      <td>Suquamish</td>\n",
       "      <td>WA</td>\n",
       "      <td>98392.0</td>\n",
       "      <td>2021</td>\n",
       "      <td>TESLA</td>\n",
       "      <td>MODEL Y</td>\n",
       "      <td>Battery Electric Vehicle (BEV)</td>\n",
       "      <td>Eligibility unknown as battery range has not b...</td>\n",
       "      <td>0</td>\n",
       "      <td>0</td>\n",
       "      <td>23.0</td>\n",
       "      <td>205138552</td>\n",
       "      <td>POINT (-122.55717 47.733415)</td>\n",
       "      <td>PUGET SOUND ENERGY INC</td>\n",
       "      <td>5.303594e+10</td>\n",
       "    </tr>\n",
       "  </tbody>\n",
       "</table>\n",
       "</div>"
      ],
      "text/plain": [
       "   VIN (1-10)     County       City State  Postal Code  Model Year   Make  \\\n",
       "0  5YJYGDEE1L       King    Seattle    WA      98122.0        2020  TESLA   \n",
       "1  7SAYGDEE9P  Snohomish    Bothell    WA      98021.0        2023  TESLA   \n",
       "2  5YJSA1E4XK       King    Seattle    WA      98109.0        2019  TESLA   \n",
       "3  5YJSA1E27G       King   Issaquah    WA      98027.0        2016  TESLA   \n",
       "4  5YJYGDEE5M     Kitsap  Suquamish    WA      98392.0        2021  TESLA   \n",
       "\n",
       "     Model           Electric Vehicle Type  \\\n",
       "0  MODEL Y  Battery Electric Vehicle (BEV)   \n",
       "1  MODEL Y  Battery Electric Vehicle (BEV)   \n",
       "2  MODEL S  Battery Electric Vehicle (BEV)   \n",
       "3  MODEL S  Battery Electric Vehicle (BEV)   \n",
       "4  MODEL Y  Battery Electric Vehicle (BEV)   \n",
       "\n",
       "   Clean Alternative Fuel Vehicle (CAFV) Eligibility  Electric Range  \\\n",
       "0            Clean Alternative Fuel Vehicle Eligible             291   \n",
       "1  Eligibility unknown as battery range has not b...               0   \n",
       "2            Clean Alternative Fuel Vehicle Eligible             270   \n",
       "3            Clean Alternative Fuel Vehicle Eligible             210   \n",
       "4  Eligibility unknown as battery range has not b...               0   \n",
       "\n",
       "   Base MSRP  Legislative District  DOL Vehicle ID  \\\n",
       "0          0                  37.0       125701579   \n",
       "1          0                   1.0       244285107   \n",
       "2          0                  36.0       156773144   \n",
       "3          0                   5.0       165103011   \n",
       "4          0                  23.0       205138552   \n",
       "\n",
       "                Vehicle Location  \\\n",
       "0   POINT (-122.30839 47.610365)   \n",
       "1  POINT (-122.179458 47.802589)   \n",
       "2   POINT (-122.34848 47.632405)   \n",
       "3   POINT (-122.03646 47.534065)   \n",
       "4   POINT (-122.55717 47.733415)   \n",
       "\n",
       "                                Electric Utility  2020 Census Tract  \n",
       "0   CITY OF SEATTLE - (WA)|CITY OF TACOMA - (WA)       5.303301e+10  \n",
       "1                         PUGET SOUND ENERGY INC       5.306105e+10  \n",
       "2   CITY OF SEATTLE - (WA)|CITY OF TACOMA - (WA)       5.303301e+10  \n",
       "3  PUGET SOUND ENERGY INC||CITY OF TACOMA - (WA)       5.303303e+10  \n",
       "4                         PUGET SOUND ENERGY INC       5.303594e+10  "
      ]
     },
     "execution_count": 51,
     "metadata": {},
     "output_type": "execute_result"
    }
   ],
   "source": [
    "df.head()"
   ]
  },
  {
   "cell_type": "code",
   "execution_count": 52,
   "metadata": {},
   "outputs": [
    {
     "data": {
      "image/png": "[encoded data removed]",
      "text/plain": [
       "<Figure size 900x900 with 1 Axes>"
      ]
     },
     "metadata": {},
     "output_type": "display_data"
    }
   ],
   "source": [
    "# geographical distribution at county level\n",
    "ev_county_distribution = df['County'].value_counts()\n",
    "top_counties = ev_county_distribution.head(3).index\n",
    "\n",
    "# filtering the dataset for these top counties\n",
    "top_counties_data = df[df['County'].isin(top_counties)]\n",
    "\n",
    "# analyzing the distribution of EVs within the cities of these top counties\n",
    "ev_city_distribution_top_counties = top_counties_data.groupby(['County', 'City']).size().sort_values(ascending=False).reset_index(name='Number of Vehicles')\n",
    "\n",
    "# visualize the top 10 cities across these counties\n",
    "top_cities = ev_city_distribution_top_counties.head(10)\n",
    "\n",
    "\n",
    "plt.figure(figsize= (9,9))\n",
    "sns.barplot(x='Number of Vehicles', y= 'City', hue='County',data= top_cities ,palette='magma')\n",
    "\n",
    "plt.title('Top Cities in Top Counties by EV Registrations')\n",
    "plt.xlabel('Number of Vehicles Registered')\n",
    "plt.ylabel('City')\n",
    "plt.legend(title='County')\n",
    "plt.tight_layout()\n",
    "plt.show()"
   ]
  },
  {
   "cell_type": "markdown",
   "metadata": {},
   "source": [
    "EV Types: Breakdown of the dataset by electric vehicle type (BEV, etc.)."
   ]
  },
  {
   "cell_type": "code",
   "execution_count": 53,
   "metadata": {},
   "outputs": [
    {
     "data": {
      "application/vnd.microsoft.datawrangler.viewer.v0+json": {
       "columns": [
        {
         "name": "index",
         "rawType": "int64",
         "type": "integer"
        },
        {
         "name": "VIN (1-10)",
         "rawType": "object",
         "type": "string"
        },
        {
         "name": "County",
         "rawType": "object",
         "type": "string"
        },
        {
         "name": "City",
         "rawType": "object",
         "type": "string"
        },
        {
         "name": "State",
         "rawType": "object",
         "type": "string"
        },
        {
         "name": "Postal Code",
         "rawType": "float64",
         "type": "float"
        },
        {
         "name": "Model Year",
         "rawType": "int64",
         "type": "integer"
        },
        {
         "name": "Make",
         "rawType": "object",
         "type": "string"
        },
        {
         "name": "Model",
         "rawType": "object",
         "type": "string"
        },
        {
         "name": "Electric Vehicle Type",
         "rawType": "object",
         "type": "string"
        },
        {
         "name": "Clean Alternative Fuel Vehicle (CAFV) Eligibility",
         "rawType": "object",
         "type": "string"
        },
        {
         "name": "Electric Range",
         "rawType": "int64",
         "type": "integer"
        },
        {
         "name": "Base MSRP",
         "rawType": "int64",
         "type": "integer"
        },
        {
         "name": "Legislative District",
         "rawType": "float64",
         "type": "float"
        },
        {
         "name": "DOL Vehicle ID",
         "rawType": "int64",
         "type": "integer"
        },
        {
         "name": "Vehicle Location",
         "rawType": "object",
         "type": "string"
        },
        {
         "name": "Electric Utility",
         "rawType": "object",
         "type": "string"
        },
        {
         "name": "2020 Census Tract",
         "rawType": "float64",
         "type": "float"
        }
       ],
       "ref": "76dc38c4-0c2e-44d5-9faa-f930349309c9",
       "rows": [
        [
         "0",
         "5YJYGDEE1L",
         "King",
         "Seattle",
         "WA",
         "98122.0",
         "2020",
         "TESLA",
         "MODEL Y",
         "Battery Electric Vehicle (BEV)",
         "Clean Alternative Fuel Vehicle Eligible",
         "291",
         "0",
         "37.0",
         "125701579",
         "POINT (-122.30839 47.610365)",
         "CITY OF SEATTLE - (WA)|CITY OF TACOMA - (WA)",
         "53033007800.0"
        ],
        [
         "1",
         "7SAYGDEE9P",
         "Snohomish",
         "Bothell",
         "WA",
         "98021.0",
         "2023",
         "TESLA",
         "MODEL Y",
         "Battery Electric Vehicle (BEV)",
         "Eligibility unknown as battery range has not been researched",
         "0",
         "0",
         "1.0",
         "244285107",
         "POINT (-122.179458 47.802589)",
         "PUGET SOUND ENERGY INC",
         "53061051938.0"
        ],
        [
         "2",
         "5YJSA1E4XK",
         "King",
         "Seattle",
         "WA",
         "98109.0",
         "2019",
         "TESLA",
         "MODEL S",
         "Battery Electric Vehicle (BEV)",
         "Clean Alternative Fuel Vehicle Eligible",
         "270",
         "0",
         "36.0",
         "156773144",
         "POINT (-122.34848 47.632405)",
         "CITY OF SEATTLE - (WA)|CITY OF TACOMA - (WA)",
         "53033006800.0"
        ],
        [
         "3",
         "5YJSA1E27G",
         "King",
         "Issaquah",
         "WA",
         "98027.0",
         "2016",
         "TESLA",
         "MODEL S",
         "Battery Electric Vehicle (BEV)",
         "Clean Alternative Fuel Vehicle Eligible",
         "210",
         "0",
         "5.0",
         "165103011",
         "POINT (-122.03646 47.534065)",
         "PUGET SOUND ENERGY INC||CITY OF TACOMA - (WA)",
         "53033032104.0"
        ],
        [
         "4",
         "5YJYGDEE5M",
         "Kitsap",
         "Suquamish",
         "WA",
         "98392.0",
         "2021",
         "TESLA",
         "MODEL Y",
         "Battery Electric Vehicle (BEV)",
         "Eligibility unknown as battery range has not been researched",
         "0",
         "0",
         "23.0",
         "205138552",
         "POINT (-122.55717 47.733415)",
         "PUGET SOUND ENERGY INC",
         "53035940100.0"
        ]
       ],
       "shape": {
        "columns": 17,
        "rows": 5
       }
      },
      "text/html": [
       "<div>\n",
       "<style scoped>\n",
       "    .dataframe tbody tr th:only-of-type {\n",
       "        vertical-align: middle;\n",
       "    }\n",
       "\n",
       "    .dataframe tbody tr th {\n",
       "        vertical-align: top;\n",
       "    }\n",
       "\n",
       "    .dataframe thead th {\n",
       "        text-align: right;\n",
       "    }\n",
       "</style>\n",
       "<table border=\"1\" class=\"dataframe\">\n",
       "  <thead>\n",
       "    <tr style=\"text-align: right;\">\n",
       "      <th></th>\n",
       "      <th>VIN (1-10)</th>\n",
       "      <th>County</th>\n",
       "      <th>City</th>\n",
       "      <th>State</th>\n",
       "      <th>Postal Code</th>\n",
       "      <th>Model Year</th>\n",
       "      <th>Make</th>\n",
       "      <th>Model</th>\n",
       "      <th>Electric Vehicle Type</th>\n",
       "      <th>Clean Alternative Fuel Vehicle (CAFV) Eligibility</th>\n",
       "      <th>Electric Range</th>\n",
       "      <th>Base MSRP</th>\n",
       "      <th>Legislative District</th>\n",
       "      <th>DOL Vehicle ID</th>\n",
       "      <th>Vehicle Location</th>\n",
       "      <th>Electric Utility</th>\n",
       "      <th>2020 Census Tract</th>\n",
       "    </tr>\n",
       "  </thead>\n",
       "  <tbody>\n",
       "    <tr>\n",
       "      <th>0</th>\n",
       "      <td>5YJYGDEE1L</td>\n",
       "      <td>King</td>\n",
       "      <td>Seattle</td>\n",
       "      <td>WA</td>\n",
       "      <td>98122.0</td>\n",
       "      <td>2020</td>\n",
       "      <td>TESLA</td>\n",
       "      <td>MODEL Y</td>\n",
       "      <td>Battery Electric Vehicle (BEV)</td>\n",
       "      <td>Clean Alternative Fuel Vehicle Eligible</td>\n",
       "      <td>291</td>\n",
       "      <td>0</td>\n",
       "      <td>37.0</td>\n",
       "      <td>125701579</td>\n",
       "      <td>POINT (-122.30839 47.610365)</td>\n",
       "      <td>CITY OF SEATTLE - (WA)|CITY OF TACOMA - (WA)</td>\n",
       "      <td>5.303301e+10</td>\n",
       "    </tr>\n",
       "    <tr>\n",
       "      <th>1</th>\n",
       "      <td>7SAYGDEE9P</td>\n",
       "      <td>Snohomish</td>\n",
       "      <td>Bothell</td>\n",
       "      <td>WA</td>\n",
       "      <td>98021.0</td>\n",
       "      <td>2023</td>\n",
       "      <td>TESLA</td>\n",
       "      <td>MODEL Y</td>\n",
       "      <td>Battery Electric Vehicle (BEV)</td>\n",
       "      <td>Eligibility unknown as battery range has not b...</td>\n",
       "      <td>0</td>\n",
       "      <td>0</td>\n",
       "      <td>1.0</td>\n",
       "      <td>244285107</td>\n",
       "      <td>POINT (-122.179458 47.802589)</td>\n",
       "      <td>PUGET SOUND ENERGY INC</td>\n",
       "      <td>5.306105e+10</td>\n",
       "    </tr>\n",
       "    <tr>\n",
       "      <th>2</th>\n",
       "      <td>5YJSA1E4XK</td>\n",
       "      <td>King</td>\n",
       "      <td>Seattle</td>\n",
       "      <td>WA</td>\n",
       "      <td>98109.0</td>\n",
       "      <td>2019</td>\n",
       "      <td>TESLA</td>\n",
       "      <td>MODEL S</td>\n",
       "      <td>Battery Electric Vehicle (BEV)</td>\n",
       "      <td>Clean Alternative Fuel Vehicle Eligible</td>\n",
       "      <td>270</td>\n",
       "      <td>0</td>\n",
       "      <td>36.0</td>\n",
       "      <td>156773144</td>\n",
       "      <td>POINT (-122.34848 47.632405)</td>\n",
       "      <td>CITY OF SEATTLE - (WA)|CITY OF TACOMA - (WA)</td>\n",
       "      <td>5.303301e+10</td>\n",
       "    </tr>\n",
       "    <tr>\n",
       "      <th>3</th>\n",
       "      <td>5YJSA1E27G</td>\n",
       "      <td>King</td>\n",
       "      <td>Issaquah</td>\n",
       "      <td>WA</td>\n",
       "      <td>98027.0</td>\n",
       "      <td>2016</td>\n",
       "      <td>TESLA</td>\n",
       "      <td>MODEL S</td>\n",
       "      <td>Battery Electric Vehicle (BEV)</td>\n",
       "      <td>Clean Alternative Fuel Vehicle Eligible</td>\n",
       "      <td>210</td>\n",
       "      <td>0</td>\n",
       "      <td>5.0</td>\n",
       "      <td>165103011</td>\n",
       "      <td>POINT (-122.03646 47.534065)</td>\n",
       "      <td>PUGET SOUND ENERGY INC||CITY OF TACOMA - (WA)</td>\n",
       "      <td>5.303303e+10</td>\n",
       "    </tr>\n",
       "    <tr>\n",
       "      <th>4</th>\n",
       "      <td>5YJYGDEE5M</td>\n",
       "      <td>Kitsap</td>\n",
       "      <td>Suquamish</td>\n",
       "      <td>WA</td>\n",
       "      <td>98392.0</td>\n",
       "      <td>2021</td>\n",
       "      <td>TESLA</td>\n",
       "      <td>MODEL Y</td>\n",
       "      <td>Battery Electric Vehicle (BEV)</td>\n",
       "      <td>Eligibility unknown as battery range has not b...</td>\n",
       "      <td>0</td>\n",
       "      <td>0</td>\n",
       "      <td>23.0</td>\n",
       "      <td>205138552</td>\n",
       "      <td>POINT (-122.55717 47.733415)</td>\n",
       "      <td>PUGET SOUND ENERGY INC</td>\n",
       "      <td>5.303594e+10</td>\n",
       "    </tr>\n",
       "  </tbody>\n",
       "</table>\n",
       "</div>"
      ],
      "text/plain": [
       "   VIN (1-10)     County       City State  Postal Code  Model Year   Make  \\\n",
       "0  5YJYGDEE1L       King    Seattle    WA      98122.0        2020  TESLA   \n",
       "1  7SAYGDEE9P  Snohomish    Bothell    WA      98021.0        2023  TESLA   \n",
       "2  5YJSA1E4XK       King    Seattle    WA      98109.0        2019  TESLA   \n",
       "3  5YJSA1E27G       King   Issaquah    WA      98027.0        2016  TESLA   \n",
       "4  5YJYGDEE5M     Kitsap  Suquamish    WA      98392.0        2021  TESLA   \n",
       "\n",
       "     Model           Electric Vehicle Type  \\\n",
       "0  MODEL Y  Battery Electric Vehicle (BEV)   \n",
       "1  MODEL Y  Battery Electric Vehicle (BEV)   \n",
       "2  MODEL S  Battery Electric Vehicle (BEV)   \n",
       "3  MODEL S  Battery Electric Vehicle (BEV)   \n",
       "4  MODEL Y  Battery Electric Vehicle (BEV)   \n",
       "\n",
       "   Clean Alternative Fuel Vehicle (CAFV) Eligibility  Electric Range  \\\n",
       "0            Clean Alternative Fuel Vehicle Eligible             291   \n",
       "1  Eligibility unknown as battery range has not b...               0   \n",
       "2            Clean Alternative Fuel Vehicle Eligible             270   \n",
       "3            Clean Alternative Fuel Vehicle Eligible             210   \n",
       "4  Eligibility unknown as battery range has not b...               0   \n",
       "\n",
       "   Base MSRP  Legislative District  DOL Vehicle ID  \\\n",
       "0          0                  37.0       125701579   \n",
       "1          0                   1.0       244285107   \n",
       "2          0                  36.0       156773144   \n",
       "3          0                   5.0       165103011   \n",
       "4          0                  23.0       205138552   \n",
       "\n",
       "                Vehicle Location  \\\n",
       "0   POINT (-122.30839 47.610365)   \n",
       "1  POINT (-122.179458 47.802589)   \n",
       "2   POINT (-122.34848 47.632405)   \n",
       "3   POINT (-122.03646 47.534065)   \n",
       "4   POINT (-122.55717 47.733415)   \n",
       "\n",
       "                                Electric Utility  2020 Census Tract  \n",
       "0   CITY OF SEATTLE - (WA)|CITY OF TACOMA - (WA)       5.303301e+10  \n",
       "1                         PUGET SOUND ENERGY INC       5.306105e+10  \n",
       "2   CITY OF SEATTLE - (WA)|CITY OF TACOMA - (WA)       5.303301e+10  \n",
       "3  PUGET SOUND ENERGY INC||CITY OF TACOMA - (WA)       5.303303e+10  \n",
       "4                         PUGET SOUND ENERGY INC       5.303594e+10  "
      ]
     },
     "execution_count": 53,
     "metadata": {},
     "output_type": "execute_result"
    }
   ],
   "source": [
    "df.head(5)"
   ]
  },
  {
   "cell_type": "code",
   "execution_count": 54,
   "metadata": {},
   "outputs": [
    {
     "name": "stderr",
     "output_type": "stream",
     "text": [
      "/tmp/ipykernel_221378/1512546695.py:3: FutureWarning: \n",
      "\n",
      "Passing `palette` without assigning `hue` is deprecated and will be removed in v0.14.0. Assign the `y` variable to `hue` and set `legend=False` for the same effect.\n",
      "\n",
      "  sns.barplot(x= ev_types.values, y=ev_types.index, palette='magma')\n"
     ]
    },
    {
     "data": {
      "image/png": "[encoded data removed]",
      "text/plain": [
       "<Figure size 640x480 with 1 Axes>"
      ]
     },
     "metadata": {},
     "output_type": "display_data"
    }
   ],
   "source": [
    "ev_types = df['Electric Vehicle Type'].value_counts()\n",
    "\n",
    "sns.barplot(x= ev_types.values, y=ev_types.index, palette='magma')\n",
    "\n",
    "\n",
    "plt.ylabel('Electric Vehicle Type')\n",
    "plt.xlabel('Number of vehicles Registered')\n",
    "plt.show()"
   ]
  },
  {
   "cell_type": "markdown",
   "metadata": {},
   "source": [
    "Make and Model Popularity: Identify the most popular makes and models among the registered EVs."
   ]
  },
  {
   "cell_type": "code",
   "execution_count": 55,
   "metadata": {},
   "outputs": [
    {
     "data": {
      "application/vnd.microsoft.datawrangler.viewer.v0+json": {
       "columns": [
        {
         "name": "index",
         "rawType": "int64",
         "type": "integer"
        },
        {
         "name": "VIN (1-10)",
         "rawType": "object",
         "type": "string"
        },
        {
         "name": "County",
         "rawType": "object",
         "type": "string"
        },
        {
         "name": "City",
         "rawType": "object",
         "type": "string"
        },
        {
         "name": "State",
         "rawType": "object",
         "type": "string"
        },
        {
         "name": "Postal Code",
         "rawType": "float64",
         "type": "float"
        },
        {
         "name": "Model Year",
         "rawType": "int64",
         "type": "integer"
        },
        {
         "name": "Make",
         "rawType": "object",
         "type": "string"
        },
        {
         "name": "Model",
         "rawType": "object",
         "type": "string"
        },
        {
         "name": "Electric Vehicle Type",
         "rawType": "object",
         "type": "string"
        },
        {
         "name": "Clean Alternative Fuel Vehicle (CAFV) Eligibility",
         "rawType": "object",
         "type": "string"
        },
        {
         "name": "Electric Range",
         "rawType": "int64",
         "type": "integer"
        },
        {
         "name": "Base MSRP",
         "rawType": "int64",
         "type": "integer"
        },
        {
         "name": "Legislative District",
         "rawType": "float64",
         "type": "float"
        },
        {
         "name": "DOL Vehicle ID",
         "rawType": "int64",
         "type": "integer"
        },
        {
         "name": "Vehicle Location",
         "rawType": "object",
         "type": "string"
        },
        {
         "name": "Electric Utility",
         "rawType": "object",
         "type": "string"
        },
        {
         "name": "2020 Census Tract",
         "rawType": "float64",
         "type": "float"
        }
       ],
       "ref": "6b4aaa17-e3ad-4669-8b81-56f3c40bd266",
       "rows": [
        [
         "0",
         "5YJYGDEE1L",
         "King",
         "Seattle",
         "WA",
         "98122.0",
         "2020",
         "TESLA",
         "MODEL Y",
         "Battery Electric Vehicle (BEV)",
         "Clean Alternative Fuel Vehicle Eligible",
         "291",
         "0",
         "37.0",
         "125701579",
         "POINT (-122.30839 47.610365)",
         "CITY OF SEATTLE - (WA)|CITY OF TACOMA - (WA)",
         "53033007800.0"
        ],
        [
         "1",
         "7SAYGDEE9P",
         "Snohomish",
         "Bothell",
         "WA",
         "98021.0",
         "2023",
         "TESLA",
         "MODEL Y",
         "Battery Electric Vehicle (BEV)",
         "Eligibility unknown as battery range has not been researched",
         "0",
         "0",
         "1.0",
         "244285107",
         "POINT (-122.179458 47.802589)",
         "PUGET SOUND ENERGY INC",
         "53061051938.0"
        ],
        [
         "2",
         "5YJSA1E4XK",
         "King",
         "Seattle",
         "WA",
         "98109.0",
         "2019",
         "TESLA",
         "MODEL S",
         "Battery Electric Vehicle (BEV)",
         "Clean Alternative Fuel Vehicle Eligible",
         "270",
         "0",
         "36.0",
         "156773144",
         "POINT (-122.34848 47.632405)",
         "CITY OF SEATTLE - (WA)|CITY OF TACOMA - (WA)",
         "53033006800.0"
        ],
        [
         "3",
         "5YJSA1E27G",
         "King",
         "Issaquah",
         "WA",
         "98027.0",
         "2016",
         "TESLA",
         "MODEL S",
         "Battery Electric Vehicle (BEV)",
         "Clean Alternative Fuel Vehicle Eligible",
         "210",
         "0",
         "5.0",
         "165103011",
         "POINT (-122.03646 47.534065)",
         "PUGET SOUND ENERGY INC||CITY OF TACOMA - (WA)",
         "53033032104.0"
        ],
        [
         "4",
         "5YJYGDEE5M",
         "Kitsap",
         "Suquamish",
         "WA",
         "98392.0",
         "2021",
         "TESLA",
         "MODEL Y",
         "Battery Electric Vehicle (BEV)",
         "Eligibility unknown as battery range has not been researched",
         "0",
         "0",
         "23.0",
         "205138552",
         "POINT (-122.55717 47.733415)",
         "PUGET SOUND ENERGY INC",
         "53035940100.0"
        ]
       ],
       "shape": {
        "columns": 17,
        "rows": 5
       }
      },
      "text/html": [
       "<div>\n",
       "<style scoped>\n",
       "    .dataframe tbody tr th:only-of-type {\n",
       "        vertical-align: middle;\n",
       "    }\n",
       "\n",
       "    .dataframe tbody tr th {\n",
       "        vertical-align: top;\n",
       "    }\n",
       "\n",
       "    .dataframe thead th {\n",
       "        text-align: right;\n",
       "    }\n",
       "</style>\n",
       "<table border=\"1\" class=\"dataframe\">\n",
       "  <thead>\n",
       "    <tr style=\"text-align: right;\">\n",
       "      <th></th>\n",
       "      <th>VIN (1-10)</th>\n",
       "      <th>County</th>\n",
       "      <th>City</th>\n",
       "      <th>State</th>\n",
       "      <th>Postal Code</th>\n",
       "      <th>Model Year</th>\n",
       "      <th>Make</th>\n",
       "      <th>Model</th>\n",
       "      <th>Electric Vehicle Type</th>\n",
       "      <th>Clean Alternative Fuel Vehicle (CAFV) Eligibility</th>\n",
       "      <th>Electric Range</th>\n",
       "      <th>Base MSRP</th>\n",
       "      <th>Legislative District</th>\n",
       "      <th>DOL Vehicle ID</th>\n",
       "      <th>Vehicle Location</th>\n",
       "      <th>Electric Utility</th>\n",
       "      <th>2020 Census Tract</th>\n",
       "    </tr>\n",
       "  </thead>\n",
       "  <tbody>\n",
       "    <tr>\n",
       "      <th>0</th>\n",
       "      <td>5YJYGDEE1L</td>\n",
       "      <td>King</td>\n",
       "      <td>Seattle</td>\n",
       "      <td>WA</td>\n",
       "      <td>98122.0</td>\n",
       "      <td>2020</td>\n",
       "      <td>TESLA</td>\n",
       "      <td>MODEL Y</td>\n",
       "      <td>Battery Electric Vehicle (BEV)</td>\n",
       "      <td>Clean Alternative Fuel Vehicle Eligible</td>\n",
       "      <td>291</td>\n",
       "      <td>0</td>\n",
       "      <td>37.0</td>\n",
       "      <td>125701579</td>\n",
       "      <td>POINT (-122.30839 47.610365)</td>\n",
       "      <td>CITY OF SEATTLE - (WA)|CITY OF TACOMA - (WA)</td>\n",
       "      <td>5.303301e+10</td>\n",
       "    </tr>\n",
       "    <tr>\n",
       "      <th>1</th>\n",
       "      <td>7SAYGDEE9P</td>\n",
       "      <td>Snohomish</td>\n",
       "      <td>Bothell</td>\n",
       "      <td>WA</td>\n",
       "      <td>98021.0</td>\n",
       "      <td>2023</td>\n",
       "      <td>TESLA</td>\n",
       "      <td>MODEL Y</td>\n",
       "      <td>Battery Electric Vehicle (BEV)</td>\n",
       "      <td>Eligibility unknown as battery range has not b...</td>\n",
       "      <td>0</td>\n",
       "      <td>0</td>\n",
       "      <td>1.0</td>\n",
       "      <td>244285107</td>\n",
       "      <td>POINT (-122.179458 47.802589)</td>\n",
       "      <td>PUGET SOUND ENERGY INC</td>\n",
       "      <td>5.306105e+10</td>\n",
       "    </tr>\n",
       "    <tr>\n",
       "      <th>2</th>\n",
       "      <td>5YJSA1E4XK</td>\n",
       "      <td>King</td>\n",
       "      <td>Seattle</td>\n",
       "      <td>WA</td>\n",
       "      <td>98109.0</td>\n",
       "      <td>2019</td>\n",
       "      <td>TESLA</td>\n",
       "      <td>MODEL S</td>\n",
       "      <td>Battery Electric Vehicle (BEV)</td>\n",
       "      <td>Clean Alternative Fuel Vehicle Eligible</td>\n",
       "      <td>270</td>\n",
       "      <td>0</td>\n",
       "      <td>36.0</td>\n",
       "      <td>156773144</td>\n",
       "      <td>POINT (-122.34848 47.632405)</td>\n",
       "      <td>CITY OF SEATTLE - (WA)|CITY OF TACOMA - (WA)</td>\n",
       "      <td>5.303301e+10</td>\n",
       "    </tr>\n",
       "    <tr>\n",
       "      <th>3</th>\n",
       "      <td>5YJSA1E27G</td>\n",
       "      <td>King</td>\n",
       "      <td>Issaquah</td>\n",
       "      <td>WA</td>\n",
       "      <td>98027.0</td>\n",
       "      <td>2016</td>\n",
       "      <td>TESLA</td>\n",
       "      <td>MODEL S</td>\n",
       "      <td>Battery Electric Vehicle (BEV)</td>\n",
       "      <td>Clean Alternative Fuel Vehicle Eligible</td>\n",
       "      <td>210</td>\n",
       "      <td>0</td>\n",
       "      <td>5.0</td>\n",
       "      <td>165103011</td>\n",
       "      <td>POINT (-122.03646 47.534065)</td>\n",
       "      <td>PUGET SOUND ENERGY INC||CITY OF TACOMA - (WA)</td>\n",
       "      <td>5.303303e+10</td>\n",
       "    </tr>\n",
       "    <tr>\n",
       "      <th>4</th>\n",
       "      <td>5YJYGDEE5M</td>\n",
       "      <td>Kitsap</td>\n",
       "      <td>Suquamish</td>\n",
       "      <td>WA</td>\n",
       "      <td>98392.0</td>\n",
       "      <td>2021</td>\n",
       "      <td>TESLA</td>\n",
       "      <td>MODEL Y</td>\n",
       "      <td>Battery Electric Vehicle (BEV)</td>\n",
       "      <td>Eligibility unknown as battery range has not b...</td>\n",
       "      <td>0</td>\n",
       "      <td>0</td>\n",
       "      <td>23.0</td>\n",
       "      <td>205138552</td>\n",
       "      <td>POINT (-122.55717 47.733415)</td>\n",
       "      <td>PUGET SOUND ENERGY INC</td>\n",
       "      <td>5.303594e+10</td>\n",
       "    </tr>\n",
       "  </tbody>\n",
       "</table>\n",
       "</div>"
      ],
      "text/plain": [
       "   VIN (1-10)     County       City State  Postal Code  Model Year   Make  \\\n",
       "0  5YJYGDEE1L       King    Seattle    WA      98122.0        2020  TESLA   \n",
       "1  7SAYGDEE9P  Snohomish    Bothell    WA      98021.0        2023  TESLA   \n",
       "2  5YJSA1E4XK       King    Seattle    WA      98109.0        2019  TESLA   \n",
       "3  5YJSA1E27G       King   Issaquah    WA      98027.0        2016  TESLA   \n",
       "4  5YJYGDEE5M     Kitsap  Suquamish    WA      98392.0        2021  TESLA   \n",
       "\n",
       "     Model           Electric Vehicle Type  \\\n",
       "0  MODEL Y  Battery Electric Vehicle (BEV)   \n",
       "1  MODEL Y  Battery Electric Vehicle (BEV)   \n",
       "2  MODEL S  Battery Electric Vehicle (BEV)   \n",
       "3  MODEL S  Battery Electric Vehicle (BEV)   \n",
       "4  MODEL Y  Battery Electric Vehicle (BEV)   \n",
       "\n",
       "   Clean Alternative Fuel Vehicle (CAFV) Eligibility  Electric Range  \\\n",
       "0            Clean Alternative Fuel Vehicle Eligible             291   \n",
       "1  Eligibility unknown as battery range has not b...               0   \n",
       "2            Clean Alternative Fuel Vehicle Eligible             270   \n",
       "3            Clean Alternative Fuel Vehicle Eligible             210   \n",
       "4  Eligibility unknown as battery range has not b...               0   \n",
       "\n",
       "   Base MSRP  Legislative District  DOL Vehicle ID  \\\n",
       "0          0                  37.0       125701579   \n",
       "1          0                   1.0       244285107   \n",
       "2          0                  36.0       156773144   \n",
       "3          0                   5.0       165103011   \n",
       "4          0                  23.0       205138552   \n",
       "\n",
       "                Vehicle Location  \\\n",
       "0   POINT (-122.30839 47.610365)   \n",
       "1  POINT (-122.179458 47.802589)   \n",
       "2   POINT (-122.34848 47.632405)   \n",
       "3   POINT (-122.03646 47.534065)   \n",
       "4   POINT (-122.55717 47.733415)   \n",
       "\n",
       "                                Electric Utility  2020 Census Tract  \n",
       "0   CITY OF SEATTLE - (WA)|CITY OF TACOMA - (WA)       5.303301e+10  \n",
       "1                         PUGET SOUND ENERGY INC       5.306105e+10  \n",
       "2   CITY OF SEATTLE - (WA)|CITY OF TACOMA - (WA)       5.303301e+10  \n",
       "3  PUGET SOUND ENERGY INC||CITY OF TACOMA - (WA)       5.303303e+10  \n",
       "4                         PUGET SOUND ENERGY INC       5.303594e+10  "
      ]
     },
     "execution_count": 55,
     "metadata": {},
     "output_type": "execute_result"
    }
   ],
   "source": [
    "df.head()"
   ]
  },
  {
   "cell_type": "code",
   "execution_count": 56,
   "metadata": {},
   "outputs": [
    {
     "name": "stderr",
     "output_type": "stream",
     "text": [
      "/tmp/ipykernel_221378/6113677.py:4: FutureWarning: \n",
      "\n",
      "Passing `palette` without assigning `hue` is deprecated and will be removed in v0.14.0. Assign the `y` variable to `hue` and set `legend=False` for the same effect.\n",
      "\n",
      "  sns.barplot(x=most_pop.values, y=most_pop.index, palette='magma')\n"
     ]
    },
    {
     "data": {
      "image/png": "[encoded data removed]",
      "text/plain": [
       "<Figure size 1000x500 with 1 Axes>"
      ]
     },
     "metadata": {},
     "output_type": "display_data"
    }
   ],
   "source": [
    "popularity = df['Make'].value_counts()\n",
    "most_pop = popularity.head(10)\n",
    "plt.figure(figsize=(10,5))\n",
    "sns.barplot(x=most_pop.values, y=most_pop.index, palette='magma')\n",
    "\n",
    "plt.xlabel('Number registered cars')\n",
    "plt.ylabel('Cars Make')\n",
    "plt.title('Popularity Case Study')\n",
    "plt.show()"
   ]
  },
  {
   "cell_type": "markdown",
   "metadata": {},
   "source": [
    "Electric Range Analysis: Analyze the electric range of vehicles to see how EV technology is progressing."
   ]
  }
 ],
 "metadata": {
  "kernelspec": {
   "display_name": ".venv",
   "language": "python",
   "name": "python3"
  },
  "language_info": {
   "codemirror_mode": {
    "name": "ipython",
    "version": 3
   },
   "file_extension": ".py",
   "mimetype": "text/x-python",
   "name": "python",
   "nbconvert_exporter": "python",
   "pygments_lexer": "ipython3",
   "version": "3.12.3"
  }
 },
 "nbformat": 4,
 "nbformat_minor": 2
}
